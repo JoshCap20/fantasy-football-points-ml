{
 "cells": [
  {
   "cell_type": "markdown",
   "metadata": {},
   "source": [
    "# Model Usage"
   ]
  },
  {
   "cell_type": "markdown",
   "metadata": {},
   "source": [
    "Make sure to run the script at least once to generate the models used in this."
   ]
  },
  {
   "cell_type": "markdown",
   "metadata": {},
   "source": [
    "## Environment and Imports"
   ]
  },
  {
   "cell_type": "code",
   "execution_count": 312,
   "metadata": {},
   "outputs": [
    {
     "data": {
      "text/plain": [
       "'/Users/joshcaponigro/Documents/Coding/Fantasy-Football-Tools/FantasyPointsEstimator'"
      ]
     },
     "execution_count": 312,
     "metadata": {},
     "output_type": "execute_result"
    }
   ],
   "source": [
    "# To access files in parent directory\n",
    "import os\n",
    "import sys\n",
    "\n",
    "parent_dir = os.path.abspath(os.path.join(os.getcwd(), os.pardir))\n",
    "if parent_dir not in sys.path:\n",
    "    sys.path.insert(0, parent_dir)\n",
    "\n",
    "parent_dir"
   ]
  },
  {
   "cell_type": "code",
   "execution_count": 313,
   "metadata": {},
   "outputs": [],
   "source": [
    "# Local modules\n",
    "from data_processing import load_data, impute_missing_values_with_zero\n",
    "from feature_engineering import create_feature_columns"
   ]
  },
  {
   "cell_type": "code",
   "execution_count": 314,
   "metadata": {},
   "outputs": [],
   "source": [
    "import pandas as pd\n",
    "import numpy as np\n",
    "import matplotlib.pyplot as plt\n",
    "import joblib"
   ]
  },
  {
   "cell_type": "code",
   "execution_count": 315,
   "metadata": {},
   "outputs": [],
   "source": [
    "\"\"\"\n",
    "REQUIRED COLUMNS FOR MODEL PREDICTION\n",
    "\"\"\"\n",
    "\n",
    "FEATURES = [\n",
    "    \"home\",\n",
    "    \"Oppt_ARI\",\n",
    "    \"Oppt_ATL\",\n",
    "    \"Oppt_BAL\",\n",
    "    \"Oppt_BUF\",\n",
    "    \"Oppt_CAR\",\n",
    "    \"Oppt_CHI\",\n",
    "    \"Oppt_CIN\",\n",
    "    \"Oppt_CLE\",\n",
    "    \"Oppt_DAL\",\n",
    "    \"Oppt_DEN\",\n",
    "    \"Oppt_DET\",\n",
    "    \"Oppt_GB\",\n",
    "    \"Oppt_HOU\",\n",
    "    \"Oppt_IND\",\n",
    "    \"Oppt_JAX\",\n",
    "    \"Oppt_KC\",\n",
    "    \"Oppt_LA\",\n",
    "    \"Oppt_LAC\",\n",
    "    \"Oppt_LV\",\n",
    "    \"Oppt_MIA\",\n",
    "    \"Oppt_MIN\",\n",
    "    \"Oppt_NE\",\n",
    "    \"Oppt_NO\",\n",
    "    \"Oppt_NYG\",\n",
    "    \"Oppt_NYJ\",\n",
    "    \"Oppt_PHI\",\n",
    "    \"Oppt_PIT\",\n",
    "    \"Oppt_SEA\",\n",
    "    \"Oppt_SF\",\n",
    "    \"Oppt_TB\",\n",
    "    \"Oppt_TEN\",\n",
    "    \"Oppt_WAS\",\n",
    "    \"Team_ARI\",\n",
    "    \"Team_ATL\",\n",
    "    \"Team_BAL\",\n",
    "    \"Team_BUF\",\n",
    "    \"Team_CAR\",\n",
    "    \"Team_CHI\",\n",
    "    \"Team_CIN\",\n",
    "    \"Team_CLE\",\n",
    "    \"Team_DAL\",\n",
    "    \"Team_DEN\",\n",
    "    \"Team_DET\",\n",
    "    \"Team_GB\",\n",
    "    \"Team_HOU\",\n",
    "    \"Team_IND\",\n",
    "    \"Team_JAX\",\n",
    "    \"Team_KC\",\n",
    "    \"Team_MIA\",\n",
    "    \"Team_MIN\",\n",
    "    \"Team_NE\",\n",
    "    \"Team_NO\",\n",
    "    \"Team_NYG\",\n",
    "    \"Team_NYJ\",\n",
    "    \"Team_PHI\",\n",
    "    \"Team_PIT\",\n",
    "    \"Team_SEA\",\n",
    "    \"Team_SF\",\n",
    "    \"Team_TB\",\n",
    "    \"Team_TEN\",\n",
    "    \"Team_WAS\",\n",
    "    \"season_attempts\",\n",
    "    \"recent_attempts\",\n",
    "    \"prev_attempts\",\n",
    "    \"season_completions\",\n",
    "    \"recent_completions\",\n",
    "    \"prev_completions\",\n",
    "    \"season_passing_yards\",\n",
    "    \"recent_passing_yards\",\n",
    "    \"prev_passing_yards\",\n",
    "    \"season_passing_tds\",\n",
    "    \"recent_passing_tds\",\n",
    "    \"prev_passing_tds\",\n",
    "    \"season_interceptions\",\n",
    "    \"recent_interceptions\",\n",
    "    \"prev_interceptions\",\n",
    "    \"season_carries\",\n",
    "    \"recent_carries\",\n",
    "    \"prev_carries\",\n",
    "    \"season_rushing_yards\",\n",
    "    \"recent_rushing_yards\",\n",
    "    \"prev_rushing_yards\",\n",
    "    \"season_rushing_tds\",\n",
    "    \"recent_rushing_tds\",\n",
    "    \"prev_rushing_tds\",\n",
    "    \"season_receptions\",\n",
    "    \"recent_receptions\",\n",
    "    \"prev_receptions\",\n",
    "    \"season_targets\",\n",
    "    \"recent_targets\",\n",
    "    \"prev_targets\",\n",
    "    \"season_receiving_yards\",\n",
    "    \"recent_receiving_yards\",\n",
    "    \"prev_receiving_yards\",\n",
    "    \"season_receiving_tds\",\n",
    "    \"recent_receiving_tds\",\n",
    "    \"prev_receiving_tds\",\n",
    "    \"season_special_teams_tds\",\n",
    "    \"recent_special_teams_tds\",\n",
    "    \"prev_special_teams_tds\",\n",
    "    \"season_rushing_fumbles\",\n",
    "    \"recent_rushing_fumbles\",\n",
    "    \"prev_rushing_fumbles\",\n",
    "    \"season_receiving_fumbles\",\n",
    "    \"recent_receiving_fumbles\",\n",
    "    \"prev_receiving_fumbles\",\n",
    "    \"season_sack_fumbles\",\n",
    "    \"recent_sack_fumbles\",\n",
    "    \"prev_sack_fumbles\",\n",
    "    \"season_passing_yards_per_attempt\",\n",
    "    \"recent_passing_yards_per_attempt\",\n",
    "    \"prev_passing_yards_per_attempt\",\n",
    "    \"season_rushing_yards_per_carry\",\n",
    "    \"recent_rushing_yards_per_carry\",\n",
    "    \"prev_rushing_yards_per_carry\",\n",
    "    \"season_passing_yards_squared\",\n",
    "    \"recent_passing_yards_squared\",\n",
    "    \"prev_passing_yards_squared\",\n",
    "    \"season_rushing_yards_squared\",\n",
    "    \"recent_rushing_yards_squared\",\n",
    "    \"prev_rushing_yards_squared\",\n",
    "    \"season_receiving_yards_per_target\",\n",
    "    \"recent_receiving_yards_per_target\",\n",
    "    \"prev_receiving_yards_per_target\",\n",
    "    \"season_receiving_yards_per_reception\",\n",
    "    \"recent_receiving_yards_per_reception\",\n",
    "    \"prev_receiving_yards_per_reception\",\n",
    "    \"fantasy_points_lag1\",\n",
    "    \"fantasy_points_lag2\",\n",
    "]"
   ]
  },
  {
   "cell_type": "markdown",
   "metadata": {},
   "source": [
    "## Configuration"
   ]
  },
  {
   "cell_type": "markdown",
   "metadata": {},
   "source": [
    "Change model filepath to point at the correct model to be used."
   ]
  },
  {
   "cell_type": "code",
   "execution_count": 316,
   "metadata": {},
   "outputs": [],
   "source": [
    "MODEL_FILEPATH = f\"../output/models/QB/RandomForest_20240901214804.joblib\""
   ]
  },
  {
   "cell_type": "markdown",
   "metadata": {},
   "source": [
    "## Model"
   ]
  },
  {
   "cell_type": "code",
   "execution_count": 317,
   "metadata": {},
   "outputs": [],
   "source": [
    "model = joblib.load(MODEL_FILEPATH)"
   ]
  },
  {
   "cell_type": "markdown",
   "metadata": {},
   "source": [
    "### Input"
   ]
  },
  {
   "cell_type": "code",
   "execution_count": 318,
   "metadata": {},
   "outputs": [],
   "source": [
    "PLAYER_NAME = \"Tom Brady\"\n",
    "YEAR = 2019"
   ]
  },
  {
   "cell_type": "code",
   "execution_count": 319,
   "metadata": {},
   "outputs": [],
   "source": [
    "def get_player_data():\n",
    "    data = load_data(years=[YEAR], filepath=\"../data\")\n",
    "    return data.loc[\n",
    "        (data[\"player_name\"] == PLAYER_NAME)\n",
    "        | (data[\"player_display_name\"] == PLAYER_NAME)\n",
    "    ]"
   ]
  },
  {
   "cell_type": "code",
   "execution_count": 320,
   "metadata": {},
   "outputs": [],
   "source": [
    "data = get_player_data()"
   ]
  },
  {
   "cell_type": "code",
   "execution_count": 321,
   "metadata": {},
   "outputs": [],
   "source": [
    "assert data.shape[0] != 0, f\"Player {PLAYER_NAME} not found in data.\""
   ]
  },
  {
   "cell_type": "markdown",
   "metadata": {},
   "source": [
    "Now use the feature engineering used for models"
   ]
  },
  {
   "cell_type": "code",
   "execution_count": 322,
   "metadata": {},
   "outputs": [],
   "source": [
    "df = pd.DataFrame(data)\n",
    "df, features = create_feature_columns(df)"
   ]
  },
  {
   "cell_type": "code",
   "execution_count": 323,
   "metadata": {},
   "outputs": [
    {
     "data": {
      "text/html": [
       "<div>\n",
       "<style scoped>\n",
       "    .dataframe tbody tr th:only-of-type {\n",
       "        vertical-align: middle;\n",
       "    }\n",
       "\n",
       "    .dataframe tbody tr th {\n",
       "        vertical-align: top;\n",
       "    }\n",
       "\n",
       "    .dataframe thead th {\n",
       "        text-align: right;\n",
       "    }\n",
       "</style>\n",
       "<table border=\"1\" class=\"dataframe\">\n",
       "  <thead>\n",
       "    <tr style=\"text-align: right;\">\n",
       "      <th></th>\n",
       "      <th>player_id</th>\n",
       "      <th>player_name</th>\n",
       "      <th>player_display_name</th>\n",
       "      <th>position</th>\n",
       "      <th>position_group</th>\n",
       "      <th>headshot_url</th>\n",
       "      <th>recent_team</th>\n",
       "      <th>season</th>\n",
       "      <th>week</th>\n",
       "      <th>season_type</th>\n",
       "      <th>...</th>\n",
       "      <th>prev_passing_yards_squared</th>\n",
       "      <th>season_rushing_yards_squared</th>\n",
       "      <th>recent_rushing_yards_squared</th>\n",
       "      <th>prev_rushing_yards_squared</th>\n",
       "      <th>season_receiving_yards_per_target</th>\n",
       "      <th>recent_receiving_yards_per_target</th>\n",
       "      <th>prev_receiving_yards_per_target</th>\n",
       "      <th>season_receiving_yards_per_reception</th>\n",
       "      <th>recent_receiving_yards_per_reception</th>\n",
       "      <th>prev_receiving_yards_per_reception</th>\n",
       "    </tr>\n",
       "  </thead>\n",
       "  <tbody>\n",
       "    <tr>\n",
       "      <th>0</th>\n",
       "      <td>00-0019596</td>\n",
       "      <td>T.Brady</td>\n",
       "      <td>Tom Brady</td>\n",
       "      <td>QB</td>\n",
       "      <td>QB</td>\n",
       "      <td>https://static.www.nfl.com/image/private/f_aut...</td>\n",
       "      <td>NE</td>\n",
       "      <td>2019</td>\n",
       "      <td>1</td>\n",
       "      <td>REG</td>\n",
       "      <td>...</td>\n",
       "      <td>NaN</td>\n",
       "      <td>NaN</td>\n",
       "      <td>NaN</td>\n",
       "      <td>NaN</td>\n",
       "      <td>NaN</td>\n",
       "      <td>NaN</td>\n",
       "      <td>NaN</td>\n",
       "      <td>NaN</td>\n",
       "      <td>NaN</td>\n",
       "      <td>NaN</td>\n",
       "    </tr>\n",
       "    <tr>\n",
       "      <th>1</th>\n",
       "      <td>00-0019596</td>\n",
       "      <td>T.Brady</td>\n",
       "      <td>Tom Brady</td>\n",
       "      <td>QB</td>\n",
       "      <td>QB</td>\n",
       "      <td>https://static.www.nfl.com/image/private/f_aut...</td>\n",
       "      <td>NE</td>\n",
       "      <td>2019</td>\n",
       "      <td>3</td>\n",
       "      <td>REG</td>\n",
       "      <td>...</td>\n",
       "      <td>116281.0</td>\n",
       "      <td>0.000000</td>\n",
       "      <td>0.000000</td>\n",
       "      <td>0.0</td>\n",
       "      <td>NaN</td>\n",
       "      <td>NaN</td>\n",
       "      <td>NaN</td>\n",
       "      <td>NaN</td>\n",
       "      <td>NaN</td>\n",
       "      <td>NaN</td>\n",
       "    </tr>\n",
       "    <tr>\n",
       "      <th>2</th>\n",
       "      <td>00-0019596</td>\n",
       "      <td>T.Brady</td>\n",
       "      <td>Tom Brady</td>\n",
       "      <td>QB</td>\n",
       "      <td>QB</td>\n",
       "      <td>https://static.www.nfl.com/image/private/f_aut...</td>\n",
       "      <td>NE</td>\n",
       "      <td>2019</td>\n",
       "      <td>6</td>\n",
       "      <td>REG</td>\n",
       "      <td>...</td>\n",
       "      <td>93636.0</td>\n",
       "      <td>0.500000</td>\n",
       "      <td>0.500000</td>\n",
       "      <td>1.0</td>\n",
       "      <td>NaN</td>\n",
       "      <td>NaN</td>\n",
       "      <td>NaN</td>\n",
       "      <td>NaN</td>\n",
       "      <td>NaN</td>\n",
       "      <td>NaN</td>\n",
       "    </tr>\n",
       "    <tr>\n",
       "      <th>3</th>\n",
       "      <td>00-0019596</td>\n",
       "      <td>T.Brady</td>\n",
       "      <td>Tom Brady</td>\n",
       "      <td>QB</td>\n",
       "      <td>QB</td>\n",
       "      <td>https://static.www.nfl.com/image/private/f_aut...</td>\n",
       "      <td>NE</td>\n",
       "      <td>2019</td>\n",
       "      <td>8</td>\n",
       "      <td>REG</td>\n",
       "      <td>...</td>\n",
       "      <td>111556.0</td>\n",
       "      <td>12.333333</td>\n",
       "      <td>12.333333</td>\n",
       "      <td>36.0</td>\n",
       "      <td>NaN</td>\n",
       "      <td>NaN</td>\n",
       "      <td>NaN</td>\n",
       "      <td>NaN</td>\n",
       "      <td>NaN</td>\n",
       "      <td>NaN</td>\n",
       "    </tr>\n",
       "    <tr>\n",
       "      <th>4</th>\n",
       "      <td>00-0019596</td>\n",
       "      <td>T.Brady</td>\n",
       "      <td>Tom Brady</td>\n",
       "      <td>QB</td>\n",
       "      <td>QB</td>\n",
       "      <td>https://static.www.nfl.com/image/private/f_aut...</td>\n",
       "      <td>NE</td>\n",
       "      <td>2019</td>\n",
       "      <td>12</td>\n",
       "      <td>REG</td>\n",
       "      <td>...</td>\n",
       "      <td>67081.0</td>\n",
       "      <td>9.250000</td>\n",
       "      <td>9.250000</td>\n",
       "      <td>0.0</td>\n",
       "      <td>NaN</td>\n",
       "      <td>NaN</td>\n",
       "      <td>NaN</td>\n",
       "      <td>NaN</td>\n",
       "      <td>NaN</td>\n",
       "      <td>NaN</td>\n",
       "    </tr>\n",
       "    <tr>\n",
       "      <th>5</th>\n",
       "      <td>00-0019596</td>\n",
       "      <td>T.Brady</td>\n",
       "      <td>Tom Brady</td>\n",
       "      <td>QB</td>\n",
       "      <td>QB</td>\n",
       "      <td>https://static.www.nfl.com/image/private/f_aut...</td>\n",
       "      <td>NE</td>\n",
       "      <td>2019</td>\n",
       "      <td>14</td>\n",
       "      <td>REG</td>\n",
       "      <td>...</td>\n",
       "      <td>36100.0</td>\n",
       "      <td>9.200000</td>\n",
       "      <td>11.500000</td>\n",
       "      <td>9.0</td>\n",
       "      <td>NaN</td>\n",
       "      <td>NaN</td>\n",
       "      <td>NaN</td>\n",
       "      <td>NaN</td>\n",
       "      <td>NaN</td>\n",
       "      <td>NaN</td>\n",
       "    </tr>\n",
       "    <tr>\n",
       "      <th>6</th>\n",
       "      <td>00-0019596</td>\n",
       "      <td>T.Brady</td>\n",
       "      <td>Tom Brady</td>\n",
       "      <td>QB</td>\n",
       "      <td>QB</td>\n",
       "      <td>https://static.www.nfl.com/image/private/f_aut...</td>\n",
       "      <td>NE</td>\n",
       "      <td>2019</td>\n",
       "      <td>16</td>\n",
       "      <td>REG</td>\n",
       "      <td>...</td>\n",
       "      <td>28561.0</td>\n",
       "      <td>74.333333</td>\n",
       "      <td>111.250000</td>\n",
       "      <td>400.0</td>\n",
       "      <td>NaN</td>\n",
       "      <td>NaN</td>\n",
       "      <td>NaN</td>\n",
       "      <td>NaN</td>\n",
       "      <td>NaN</td>\n",
       "      <td>NaN</td>\n",
       "    </tr>\n",
       "    <tr>\n",
       "      <th>7</th>\n",
       "      <td>00-0019596</td>\n",
       "      <td>T.Brady</td>\n",
       "      <td>Tom Brady</td>\n",
       "      <td>QB</td>\n",
       "      <td>QB</td>\n",
       "      <td>https://static.www.nfl.com/image/private/f_aut...</td>\n",
       "      <td>NE</td>\n",
       "      <td>2019</td>\n",
       "      <td>17</td>\n",
       "      <td>REG</td>\n",
       "      <td>...</td>\n",
       "      <td>73441.0</td>\n",
       "      <td>66.000000</td>\n",
       "      <td>106.250000</td>\n",
       "      <td>16.0</td>\n",
       "      <td>NaN</td>\n",
       "      <td>NaN</td>\n",
       "      <td>NaN</td>\n",
       "      <td>NaN</td>\n",
       "      <td>NaN</td>\n",
       "      <td>NaN</td>\n",
       "    </tr>\n",
       "    <tr>\n",
       "      <th>8</th>\n",
       "      <td>00-0019596</td>\n",
       "      <td>T.Brady</td>\n",
       "      <td>Tom Brady</td>\n",
       "      <td>QB</td>\n",
       "      <td>QB</td>\n",
       "      <td>https://static.www.nfl.com/image/private/f_aut...</td>\n",
       "      <td>NE</td>\n",
       "      <td>2019</td>\n",
       "      <td>18</td>\n",
       "      <td>POST</td>\n",
       "      <td>...</td>\n",
       "      <td>48841.0</td>\n",
       "      <td>57.750000</td>\n",
       "      <td>106.250000</td>\n",
       "      <td>0.0</td>\n",
       "      <td>NaN</td>\n",
       "      <td>NaN</td>\n",
       "      <td>NaN</td>\n",
       "      <td>NaN</td>\n",
       "      <td>NaN</td>\n",
       "      <td>NaN</td>\n",
       "    </tr>\n",
       "  </tbody>\n",
       "</table>\n",
       "<p>9 rows × 182 columns</p>\n",
       "</div>"
      ],
      "text/plain": [
       "    player_id player_name player_display_name position position_group  \\\n",
       "0  00-0019596     T.Brady           Tom Brady       QB             QB   \n",
       "1  00-0019596     T.Brady           Tom Brady       QB             QB   \n",
       "2  00-0019596     T.Brady           Tom Brady       QB             QB   \n",
       "3  00-0019596     T.Brady           Tom Brady       QB             QB   \n",
       "4  00-0019596     T.Brady           Tom Brady       QB             QB   \n",
       "5  00-0019596     T.Brady           Tom Brady       QB             QB   \n",
       "6  00-0019596     T.Brady           Tom Brady       QB             QB   \n",
       "7  00-0019596     T.Brady           Tom Brady       QB             QB   \n",
       "8  00-0019596     T.Brady           Tom Brady       QB             QB   \n",
       "\n",
       "                                        headshot_url recent_team  season  \\\n",
       "0  https://static.www.nfl.com/image/private/f_aut...          NE    2019   \n",
       "1  https://static.www.nfl.com/image/private/f_aut...          NE    2019   \n",
       "2  https://static.www.nfl.com/image/private/f_aut...          NE    2019   \n",
       "3  https://static.www.nfl.com/image/private/f_aut...          NE    2019   \n",
       "4  https://static.www.nfl.com/image/private/f_aut...          NE    2019   \n",
       "5  https://static.www.nfl.com/image/private/f_aut...          NE    2019   \n",
       "6  https://static.www.nfl.com/image/private/f_aut...          NE    2019   \n",
       "7  https://static.www.nfl.com/image/private/f_aut...          NE    2019   \n",
       "8  https://static.www.nfl.com/image/private/f_aut...          NE    2019   \n",
       "\n",
       "   week season_type  ... prev_passing_yards_squared  \\\n",
       "0     1         REG  ...                        NaN   \n",
       "1     3         REG  ...                   116281.0   \n",
       "2     6         REG  ...                    93636.0   \n",
       "3     8         REG  ...                   111556.0   \n",
       "4    12         REG  ...                    67081.0   \n",
       "5    14         REG  ...                    36100.0   \n",
       "6    16         REG  ...                    28561.0   \n",
       "7    17         REG  ...                    73441.0   \n",
       "8    18        POST  ...                    48841.0   \n",
       "\n",
       "   season_rushing_yards_squared  recent_rushing_yards_squared  \\\n",
       "0                           NaN                           NaN   \n",
       "1                      0.000000                      0.000000   \n",
       "2                      0.500000                      0.500000   \n",
       "3                     12.333333                     12.333333   \n",
       "4                      9.250000                      9.250000   \n",
       "5                      9.200000                     11.500000   \n",
       "6                     74.333333                    111.250000   \n",
       "7                     66.000000                    106.250000   \n",
       "8                     57.750000                    106.250000   \n",
       "\n",
       "   prev_rushing_yards_squared  season_receiving_yards_per_target  \\\n",
       "0                         NaN                                NaN   \n",
       "1                         0.0                                NaN   \n",
       "2                         1.0                                NaN   \n",
       "3                        36.0                                NaN   \n",
       "4                         0.0                                NaN   \n",
       "5                         9.0                                NaN   \n",
       "6                       400.0                                NaN   \n",
       "7                        16.0                                NaN   \n",
       "8                         0.0                                NaN   \n",
       "\n",
       "   recent_receiving_yards_per_target  prev_receiving_yards_per_target  \\\n",
       "0                                NaN                              NaN   \n",
       "1                                NaN                              NaN   \n",
       "2                                NaN                              NaN   \n",
       "3                                NaN                              NaN   \n",
       "4                                NaN                              NaN   \n",
       "5                                NaN                              NaN   \n",
       "6                                NaN                              NaN   \n",
       "7                                NaN                              NaN   \n",
       "8                                NaN                              NaN   \n",
       "\n",
       "   season_receiving_yards_per_reception  recent_receiving_yards_per_reception  \\\n",
       "0                                   NaN                                   NaN   \n",
       "1                                   NaN                                   NaN   \n",
       "2                                   NaN                                   NaN   \n",
       "3                                   NaN                                   NaN   \n",
       "4                                   NaN                                   NaN   \n",
       "5                                   NaN                                   NaN   \n",
       "6                                   NaN                                   NaN   \n",
       "7                                   NaN                                   NaN   \n",
       "8                                   NaN                                   NaN   \n",
       "\n",
       "   prev_receiving_yards_per_reception  \n",
       "0                                 NaN  \n",
       "1                                 NaN  \n",
       "2                                 NaN  \n",
       "3                                 NaN  \n",
       "4                                 NaN  \n",
       "5                                 NaN  \n",
       "6                                 NaN  \n",
       "7                                 NaN  \n",
       "8                                 NaN  \n",
       "\n",
       "[9 rows x 182 columns]"
      ]
     },
     "metadata": {},
     "output_type": "display_data"
    }
   ],
   "source": [
    "display(df)"
   ]
  },
  {
   "cell_type": "code",
   "execution_count": 343,
   "metadata": {},
   "outputs": [
    {
     "data": {
      "text/plain": [
       "player_id                              0\n",
       "player_name                            0\n",
       "player_display_name                    0\n",
       "position                               0\n",
       "position_group                         0\n",
       "                                      ..\n",
       "predicted_fantasy_points_upper_68      0\n",
       "predicted_fantasy_points_lower_95      0\n",
       "predicted_fantasy_points_upper_95      0\n",
       "predicted_fantasy_points_lower_99.7    0\n",
       "predicted_fantasy_points_upper_99.7    0\n",
       "Length: 321, dtype: int64"
      ]
     },
     "execution_count": 343,
     "metadata": {},
     "output_type": "execute_result"
    }
   ],
   "source": [
    "# show null columns and rows\n",
    "df.isnull().sum()"
   ]
  },
  {
   "cell_type": "code",
   "execution_count": 324,
   "metadata": {},
   "outputs": [
    {
     "data": {
      "text/html": [
       "<div>\n",
       "<style scoped>\n",
       "    .dataframe tbody tr th:only-of-type {\n",
       "        vertical-align: middle;\n",
       "    }\n",
       "\n",
       "    .dataframe tbody tr th {\n",
       "        vertical-align: top;\n",
       "    }\n",
       "\n",
       "    .dataframe thead th {\n",
       "        text-align: right;\n",
       "    }\n",
       "</style>\n",
       "<table border=\"1\" class=\"dataframe\">\n",
       "  <thead>\n",
       "    <tr style=\"text-align: right;\">\n",
       "      <th></th>\n",
       "      <th>fantasy_points_ppr</th>\n",
       "    </tr>\n",
       "  </thead>\n",
       "  <tbody>\n",
       "    <tr>\n",
       "      <th>0</th>\n",
       "      <td>25.64</td>\n",
       "    </tr>\n",
       "    <tr>\n",
       "      <th>1</th>\n",
       "      <td>20.14</td>\n",
       "    </tr>\n",
       "    <tr>\n",
       "      <th>2</th>\n",
       "      <td>21.96</td>\n",
       "    </tr>\n",
       "    <tr>\n",
       "      <th>3</th>\n",
       "      <td>18.36</td>\n",
       "    </tr>\n",
       "    <tr>\n",
       "      <th>4</th>\n",
       "      <td>11.30</td>\n",
       "    </tr>\n",
       "    <tr>\n",
       "      <th>5</th>\n",
       "      <td>10.76</td>\n",
       "    </tr>\n",
       "    <tr>\n",
       "      <th>6</th>\n",
       "      <td>17.24</td>\n",
       "    </tr>\n",
       "    <tr>\n",
       "      <th>7</th>\n",
       "      <td>14.84</td>\n",
       "    </tr>\n",
       "    <tr>\n",
       "      <th>8</th>\n",
       "      <td>6.36</td>\n",
       "    </tr>\n",
       "  </tbody>\n",
       "</table>\n",
       "</div>"
      ],
      "text/plain": [
       "   fantasy_points_ppr\n",
       "0               25.64\n",
       "1               20.14\n",
       "2               21.96\n",
       "3               18.36\n",
       "4               11.30\n",
       "5               10.76\n",
       "6               17.24\n",
       "7               14.84\n",
       "8                6.36"
      ]
     },
     "metadata": {},
     "output_type": "display_data"
    }
   ],
   "source": [
    "display(df[[\"fantasy_points_ppr\"]])"
   ]
  },
  {
   "cell_type": "code",
   "execution_count": 325,
   "metadata": {},
   "outputs": [],
   "source": [
    "features_df = df[features]"
   ]
  },
  {
   "cell_type": "markdown",
   "metadata": {},
   "source": [
    "### Safety Check"
   ]
  },
  {
   "cell_type": "code",
   "execution_count": 326,
   "metadata": {},
   "outputs": [
    {
     "data": {
      "text/plain": [
       "(Index(['home', 'Oppt_BUF', 'Oppt_CLE', 'Oppt_DAL', 'Oppt_KC', 'Oppt_MIA',\n",
       "        'Oppt_NYG', 'Oppt_NYJ', 'Oppt_PIT', 'Oppt_TEN', 'Team_NE',\n",
       "        'season_attempts', 'recent_attempts', 'prev_attempts',\n",
       "        'season_completions', 'recent_completions', 'prev_completions',\n",
       "        'season_passing_yards', 'recent_passing_yards', 'prev_passing_yards',\n",
       "        'season_passing_tds', 'recent_passing_tds', 'prev_passing_tds',\n",
       "        'season_interceptions', 'recent_interceptions', 'prev_interceptions',\n",
       "        'season_carries', 'recent_carries', 'prev_carries',\n",
       "        'season_rushing_yards', 'recent_rushing_yards', 'prev_rushing_yards',\n",
       "        'season_rushing_tds', 'recent_rushing_tds', 'prev_rushing_tds',\n",
       "        'season_receptions', 'recent_receptions', 'prev_receptions',\n",
       "        'season_targets', 'recent_targets', 'prev_targets',\n",
       "        'season_receiving_yards', 'recent_receiving_yards',\n",
       "        'prev_receiving_yards', 'season_receiving_tds', 'recent_receiving_tds',\n",
       "        'prev_receiving_tds', 'season_special_teams_tds',\n",
       "        'recent_special_teams_tds', 'prev_special_teams_tds',\n",
       "        'season_rushing_fumbles', 'recent_rushing_fumbles',\n",
       "        'prev_rushing_fumbles', 'season_receiving_fumbles',\n",
       "        'recent_receiving_fumbles', 'prev_receiving_fumbles',\n",
       "        'season_sack_fumbles', 'recent_sack_fumbles', 'prev_sack_fumbles',\n",
       "        'season_passing_yards_per_attempt', 'recent_passing_yards_per_attempt',\n",
       "        'prev_passing_yards_per_attempt', 'season_rushing_yards_per_carry',\n",
       "        'recent_rushing_yards_per_carry', 'prev_rushing_yards_per_carry',\n",
       "        'season_passing_yards_squared', 'recent_passing_yards_squared',\n",
       "        'prev_passing_yards_squared', 'season_rushing_yards_squared',\n",
       "        'recent_rushing_yards_squared', 'prev_rushing_yards_squared',\n",
       "        'season_receiving_yards_per_target',\n",
       "        'recent_receiving_yards_per_target', 'prev_receiving_yards_per_target',\n",
       "        'season_receiving_yards_per_reception',\n",
       "        'recent_receiving_yards_per_reception',\n",
       "        'prev_receiving_yards_per_reception', 'fantasy_points_lag1',\n",
       "        'fantasy_points_lag2'],\n",
       "       dtype='object'),\n",
       " (9, 79))"
      ]
     },
     "execution_count": 326,
     "metadata": {},
     "output_type": "execute_result"
    }
   ],
   "source": [
    "features_df.columns, features_df.shape"
   ]
  },
  {
   "cell_type": "code",
   "execution_count": 327,
   "metadata": {},
   "outputs": [],
   "source": [
    "# Quick safety check\n",
    "assert features_df.shape[0] > 0 and features_df.shape[1] > 0, \"DataFrame must be 2D\""
   ]
  },
  {
   "cell_type": "code",
   "execution_count": 328,
   "metadata": {},
   "outputs": [],
   "source": [
    "def ensure_all_columns(df: pd.DataFrame, required_columns: list) -> pd.DataFrame:\n",
    "    for col in required_columns:\n",
    "        if col not in df.columns:\n",
    "            df[col] = 0\n",
    "    df = df[required_columns]\n",
    "    return df\n",
    "\n",
    "\n",
    "features_df = ensure_all_columns(features_df.copy(), FEATURES)"
   ]
  },
  {
   "cell_type": "code",
   "execution_count": 329,
   "metadata": {},
   "outputs": [
    {
     "data": {
      "text/plain": [
       "(Index(['home', 'Oppt_ARI', 'Oppt_ATL', 'Oppt_BAL', 'Oppt_BUF', 'Oppt_CAR',\n",
       "        'Oppt_CHI', 'Oppt_CIN', 'Oppt_CLE', 'Oppt_DAL',\n",
       "        ...\n",
       "        'recent_rushing_yards_squared', 'prev_rushing_yards_squared',\n",
       "        'season_receiving_yards_per_target',\n",
       "        'recent_receiving_yards_per_target', 'prev_receiving_yards_per_target',\n",
       "        'season_receiving_yards_per_reception',\n",
       "        'recent_receiving_yards_per_reception',\n",
       "        'prev_receiving_yards_per_reception', 'fantasy_points_lag1',\n",
       "        'fantasy_points_lag2'],\n",
       "       dtype='object', length=130),\n",
       " (9, 130))"
      ]
     },
     "execution_count": 329,
     "metadata": {},
     "output_type": "execute_result"
    }
   ],
   "source": [
    "features_df.columns, features_df.shape"
   ]
  },
  {
   "cell_type": "code",
   "execution_count": 330,
   "metadata": {},
   "outputs": [],
   "source": [
    "assert (\n",
    "    list(features_df.columns) == FEATURES\n",
    "), \"DataFrame columns are not in the correct order.\""
   ]
  },
  {
   "cell_type": "code",
   "execution_count": 331,
   "metadata": {},
   "outputs": [],
   "source": [
    "features_df = impute_missing_values_with_zero(features_df, FEATURES)"
   ]
  },
  {
   "cell_type": "markdown",
   "metadata": {},
   "source": [
    "### Prediction"
   ]
  },
  {
   "cell_type": "code",
   "execution_count": 332,
   "metadata": {},
   "outputs": [],
   "source": [
    "prediction = model.predict(features_df)"
   ]
  },
  {
   "cell_type": "markdown",
   "metadata": {},
   "source": [
    "### Output"
   ]
  },
  {
   "cell_type": "code",
   "execution_count": 333,
   "metadata": {},
   "outputs": [
    {
     "data": {
      "text/plain": [
       "array([ 7.92918325, 19.75012873, 19.91728198, 21.30307413, 19.52236509,\n",
       "       19.88271458, 18.9834511 , 18.57269979, 18.35951704])"
      ]
     },
     "execution_count": 333,
     "metadata": {},
     "output_type": "execute_result"
    }
   ],
   "source": [
    "prediction"
   ]
  },
  {
   "cell_type": "code",
   "execution_count": 334,
   "metadata": {},
   "outputs": [
    {
     "data": {
      "text/html": [
       "<div>\n",
       "<style scoped>\n",
       "    .dataframe tbody tr th:only-of-type {\n",
       "        vertical-align: middle;\n",
       "    }\n",
       "\n",
       "    .dataframe tbody tr th {\n",
       "        vertical-align: top;\n",
       "    }\n",
       "\n",
       "    .dataframe thead th {\n",
       "        text-align: right;\n",
       "    }\n",
       "</style>\n",
       "<table border=\"1\" class=\"dataframe\">\n",
       "  <thead>\n",
       "    <tr style=\"text-align: right;\">\n",
       "      <th></th>\n",
       "      <th>player_name</th>\n",
       "      <th>week</th>\n",
       "      <th>fantasy_points_ppr</th>\n",
       "      <th>predicted_fantasy_points</th>\n",
       "      <th>difference</th>\n",
       "    </tr>\n",
       "  </thead>\n",
       "  <tbody>\n",
       "    <tr>\n",
       "      <th>0</th>\n",
       "      <td>T.Brady</td>\n",
       "      <td>1</td>\n",
       "      <td>25.64</td>\n",
       "      <td>7.929183</td>\n",
       "      <td>-17.710817</td>\n",
       "    </tr>\n",
       "    <tr>\n",
       "      <th>1</th>\n",
       "      <td>T.Brady</td>\n",
       "      <td>3</td>\n",
       "      <td>20.14</td>\n",
       "      <td>19.750129</td>\n",
       "      <td>-0.389871</td>\n",
       "    </tr>\n",
       "    <tr>\n",
       "      <th>2</th>\n",
       "      <td>T.Brady</td>\n",
       "      <td>6</td>\n",
       "      <td>21.96</td>\n",
       "      <td>19.917282</td>\n",
       "      <td>-2.042718</td>\n",
       "    </tr>\n",
       "    <tr>\n",
       "      <th>3</th>\n",
       "      <td>T.Brady</td>\n",
       "      <td>8</td>\n",
       "      <td>18.36</td>\n",
       "      <td>21.303074</td>\n",
       "      <td>2.943074</td>\n",
       "    </tr>\n",
       "    <tr>\n",
       "      <th>4</th>\n",
       "      <td>T.Brady</td>\n",
       "      <td>12</td>\n",
       "      <td>11.30</td>\n",
       "      <td>19.522365</td>\n",
       "      <td>8.222365</td>\n",
       "    </tr>\n",
       "    <tr>\n",
       "      <th>5</th>\n",
       "      <td>T.Brady</td>\n",
       "      <td>14</td>\n",
       "      <td>10.76</td>\n",
       "      <td>19.882715</td>\n",
       "      <td>9.122715</td>\n",
       "    </tr>\n",
       "    <tr>\n",
       "      <th>6</th>\n",
       "      <td>T.Brady</td>\n",
       "      <td>16</td>\n",
       "      <td>17.24</td>\n",
       "      <td>18.983451</td>\n",
       "      <td>1.743451</td>\n",
       "    </tr>\n",
       "    <tr>\n",
       "      <th>7</th>\n",
       "      <td>T.Brady</td>\n",
       "      <td>17</td>\n",
       "      <td>14.84</td>\n",
       "      <td>18.572700</td>\n",
       "      <td>3.732700</td>\n",
       "    </tr>\n",
       "    <tr>\n",
       "      <th>8</th>\n",
       "      <td>T.Brady</td>\n",
       "      <td>18</td>\n",
       "      <td>6.36</td>\n",
       "      <td>18.359517</td>\n",
       "      <td>11.999517</td>\n",
       "    </tr>\n",
       "  </tbody>\n",
       "</table>\n",
       "</div>"
      ],
      "text/plain": [
       "  player_name  week  fantasy_points_ppr  predicted_fantasy_points  difference\n",
       "0     T.Brady     1               25.64                  7.929183  -17.710817\n",
       "1     T.Brady     3               20.14                 19.750129   -0.389871\n",
       "2     T.Brady     6               21.96                 19.917282   -2.042718\n",
       "3     T.Brady     8               18.36                 21.303074    2.943074\n",
       "4     T.Brady    12               11.30                 19.522365    8.222365\n",
       "5     T.Brady    14               10.76                 19.882715    9.122715\n",
       "6     T.Brady    16               17.24                 18.983451    1.743451\n",
       "7     T.Brady    17               14.84                 18.572700    3.732700\n",
       "8     T.Brady    18                6.36                 18.359517   11.999517"
      ]
     },
     "execution_count": 334,
     "metadata": {},
     "output_type": "execute_result"
    }
   ],
   "source": [
    "df = pd.concat([df, features_df], axis=1)\n",
    "df[\"predicted_fantasy_points\"] = prediction\n",
    "df[\"difference\"] = df[\"predicted_fantasy_points\"] - df[\"fantasy_points_ppr\"]\n",
    "\n",
    "df[\n",
    "    [\n",
    "        \"player_name\",\n",
    "        \"week\",\n",
    "        \"fantasy_points_ppr\",\n",
    "        \"predicted_fantasy_points\",\n",
    "        \"difference\",\n",
    "    ]\n",
    "]"
   ]
  },
  {
   "cell_type": "code",
   "execution_count": 335,
   "metadata": {},
   "outputs": [
    {
     "data": {
      "text/plain": [
       "count     9.000000\n",
       "mean      1.957824\n",
       "std       8.688743\n",
       "min     -17.710817\n",
       "25%      -0.389871\n",
       "50%       2.943074\n",
       "75%       8.222365\n",
       "max      11.999517\n",
       "Name: difference, dtype: float64"
      ]
     },
     "execution_count": 335,
     "metadata": {},
     "output_type": "execute_result"
    }
   ],
   "source": [
    "df[\"difference\"].describe()"
   ]
  },
  {
   "cell_type": "code",
   "execution_count": 336,
   "metadata": {},
   "outputs": [
    {
     "data": {
      "text/plain": [
       "<Axes: >"
      ]
     },
     "execution_count": 336,
     "metadata": {},
     "output_type": "execute_result"
    },
    {
     "data": {
      "image/png": "[encoded data removed]",
      "text/plain": [
       "<Figure size 640x480 with 1 Axes>"
      ]
     },
     "metadata": {},
     "output_type": "display_data"
    }
   ],
   "source": [
    "df[\"difference\"].hist()"
   ]
  },
  {
   "cell_type": "code",
   "execution_count": 337,
   "metadata": {},
   "outputs": [
    {
     "data": {
      "text/plain": [
       "(1.957823963381308, 8.688742913529644)"
      ]
     },
     "execution_count": 337,
     "metadata": {},
     "output_type": "execute_result"
    }
   ],
   "source": [
    "mean_diff = df[\"difference\"].mean()\n",
    "std_diff = df[\"difference\"].std()\n",
    "\n",
    "mean_diff, std_diff"
   ]
  },
  {
   "cell_type": "code",
   "execution_count": 338,
   "metadata": {},
   "outputs": [
    {
     "data": {
      "text/plain": [
       "<Axes: >"
      ]
     },
     "execution_count": 338,
     "metadata": {},
     "output_type": "execute_result"
    },
    {
     "data": {
      "image/png": "[encoded data removed]",
      "text/plain": [
       "<Figure size 640x480 with 1 Axes>"
      ]
     },
     "metadata": {},
     "output_type": "display_data"
    }
   ],
   "source": [
    "# how many are each std dev away from the mean?\n",
    "df[\"std_devs\"] = (df[\"difference\"] - mean_diff) / std_diff\n",
    "\n",
    "df[\"std_devs\"].hist()"
   ]
  },
  {
   "cell_type": "code",
   "execution_count": 339,
   "metadata": {},
   "outputs": [
    {
     "name": "stdout",
     "output_type": "stream",
     "text": [
      "7 within 1 std devs\n",
      "8 within 2 std devs\n",
      "9 within 3 std devs\n"
     ]
    }
   ],
   "source": [
    "# now calculate how many predictions are within 1 std dev, 2 std dev, etc\n",
    "for i in range(1, 4):\n",
    "    num_within = df.loc[df[\"std_devs\"].abs() <= i].shape[0]\n",
    "    print(f\"{num_within} within {i} std devs\")"
   ]
  },
  {
   "cell_type": "code",
   "execution_count": 340,
   "metadata": {},
   "outputs": [
    {
     "data": {
      "image/png": "[encoded data removed]",
      "text/plain": [
       "<Figure size 1200x600 with 1 Axes>"
      ]
     },
     "metadata": {},
     "output_type": "display_data"
    }
   ],
   "source": [
    "# Monte Carlo Simulation\n",
    "num_simulations = 10000\n",
    "simulated_outcomes = []\n",
    "\n",
    "for _ in range(num_simulations):\n",
    "    noise = np.random.normal(mean_diff, std_diff, size=prediction.shape)\n",
    "    simulated_outcome = prediction + noise\n",
    "    simulated_outcomes.append(simulated_outcome)\n",
    "\n",
    "simulated_outcomes = np.array(simulated_outcomes)\n",
    "\n",
    "confidence_levels = [68, 95, 99.7]\n",
    "intervals = {}\n",
    "\n",
    "for level in confidence_levels:\n",
    "    lower_percentile = (100 - level) / 2\n",
    "    upper_percentile = 100 - lower_percentile\n",
    "    lower_bound = np.percentile(simulated_outcomes, lower_percentile, axis=0)\n",
    "    upper_bound = np.percentile(simulated_outcomes, upper_percentile, axis=0)\n",
    "    intervals[level] = (lower_bound, upper_bound)\n",
    "\n",
    "# Adding the confidence intervals to the DataFrame\n",
    "df[\"predicted_fantasy_points\"] = prediction\n",
    "for level in confidence_levels:\n",
    "    df[f\"predicted_fantasy_points_lower_{level}\"] = np.maximum(intervals[level][0], 0)\n",
    "    df[f\"predicted_fantasy_points_upper_{level}\"] = np.maximum(intervals[level][1], 0)\n",
    "\n",
    "# Set the index to start from 1 and label it as 'Week'\n",
    "df.index = range(1, len(df) + 1)\n",
    "df.index.name = \"Week\"\n",
    "\n",
    "plt.figure(figsize=(12, 6))\n",
    "for level in confidence_levels:\n",
    "    plt.fill_between(\n",
    "        df.index,\n",
    "        df[f\"predicted_fantasy_points_lower_{level}\"],\n",
    "        df[f\"predicted_fantasy_points_upper_{level}\"],\n",
    "        alpha=0.3,\n",
    "        label=f\"{level}% Confidence Interval\",\n",
    "    )\n",
    "\n",
    "# Plot predicted fantasy points\n",
    "plt.plot(\n",
    "    df.index,\n",
    "    df[\"predicted_fantasy_points\"],\n",
    "    label=\"Predicted Points\",\n",
    "    color=\"black\",\n",
    ")\n",
    "\n",
    "# Plot actual fantasy points\n",
    "plt.plot(\n",
    "    df.index,\n",
    "    df[\"fantasy_points_ppr\"],\n",
    "    label=\"Actual Points\",\n",
    "    color=\"red\",\n",
    "    linestyle=\"--\",\n",
    ")\n",
    "\n",
    "plt.xlabel(\"Week\")\n",
    "plt.ylabel(\"Predicted Fantasy Points\")\n",
    "plt.title(\"Predicted Fantasy Points with Confidence Intervals\")\n",
    "plt.legend()\n",
    "plt.show()"
   ]
  },
  {
   "cell_type": "code",
   "execution_count": 341,
   "metadata": {},
   "outputs": [
    {
     "data": {
      "text/plain": [
       "57.90722776389834"
      ]
     },
     "execution_count": 341,
     "metadata": {},
     "output_type": "execute_result"
    }
   ],
   "source": [
    "df[\"difference\"].abs().sum()"
   ]
  }
 ],
 "metadata": {
  "kernelspec": {
   "display_name": ".venv",
   "language": "python",
   "name": "python3"
  },
  "language_info": {
   "codemirror_mode": {
    "name": "ipython",
    "version": 3
   },
   "file_extension": ".py",
   "mimetype": "text/x-python",
   "name": "python",
   "nbconvert_exporter": "python",
   "pygments_lexer": "ipython3",
   "version": "3.12.4"
  }
 },
 "nbformat": 4,
 "nbformat_minor": 2
}
